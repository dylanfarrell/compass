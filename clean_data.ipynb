{
 "cells": [
  {
   "cell_type": "code",
   "execution_count": 63,
   "metadata": {
    "collapsed": true
   },
   "outputs": [],
   "source": [
    "# File for cleaning all of our data"
   ]
  },
  {
   "cell_type": "code",
   "execution_count": 2,
   "metadata": {
    "collapsed": false
   },
   "outputs": [],
   "source": [
    "# Libraries\n",
    "import collections, re\n",
    "import numpy as np\n",
    "import pandas as pd\n",
    "import treeUtil\n",
    "import cPickle\n",
    "from math import log\n",
    "from nltk.corpus import stopwords"
   ]
  },
  {
   "cell_type": "code",
   "execution_count": 28,
   "metadata": {
    "collapsed": true
   },
   "outputs": [],
   "source": [
    "[lib, con, neutral] = cPickle.load(open('ibcData.pkl', 'rb'))"
   ]
  },
  {
   "cell_type": "code",
   "execution_count": 29,
   "metadata": {
    "collapsed": false
   },
   "outputs": [
    {
     "name": "stdout",
     "output_type": "stream",
     "text": [
      "('Liberal:', 2025)\n",
      "('Neutral:', 600)\n",
      "('Conservative:', 1701)\n"
     ]
    }
   ],
   "source": [
    "print('Liberal:', len(lib))\n",
    "print('Neutral:', len(neutral))\n",
    "print('Conservative:', len(con))"
   ]
  },
  {
   "cell_type": "code",
   "execution_count": 60,
   "metadata": {
    "collapsed": false
   },
   "outputs": [],
   "source": [
    "## with sub-phrases\n",
    "# Aggregate into one dataset -- dat\n",
    "words1 = []\n",
    "label1 = []\n",
    "for i, tree in enumerate(lib):\n",
    "    lst = []\n",
    "    lst.append(tree)\n",
    "    leaves = tree.get_leaves()\n",
    "    while not lst == []:\n",
    "        curr_node = lst.pop()\n",
    "        if curr_node and curr_node not in leaves:\n",
    "            lst.append(curr_node.c1) # get the children, and add them to lst\n",
    "            lst.append(curr_node.c2) # get the children, and add them to lst\n",
    "            words1.append(curr_node.get_words())\n",
    "            label1.append(0)\n",
    "\n",
    "# n2 = len(neutral)\n",
    "words2 = []\n",
    "label2 = []\n",
    "for i, tree in enumerate(neutral):\n",
    "    lst = []\n",
    "    lst.append(tree)\n",
    "    leaves = tree.get_leaves()\n",
    "    while not lst == []:\n",
    "        curr_node = lst.pop()\n",
    "        if curr_node and curr_node not in leaves:\n",
    "            lst.append(curr_node.c1) # get the children, and add them to lst\n",
    "            lst.append(curr_node.c2) # get the children, and add them to lst\n",
    "            words2.append(curr_node.get_words())\n",
    "            label2.append(1)\n",
    "            \n",
    "words3 = []\n",
    "label3 = []\n",
    "for i, tree in enumerate(con):\n",
    "    lst = []\n",
    "    lst.append(tree)\n",
    "    leaves = tree.get_leaves()\n",
    "    while not lst == []:\n",
    "        curr_node = lst.pop()\n",
    "        if curr_node and curr_node not in leaves:\n",
    "            lst.append(curr_node.c1) # get the children, and add them to lst\n",
    "            lst.append(curr_node.c2) # get the children, and add them to lst\n",
    "            words3.append(curr_node.get_words())\n",
    "            label3.append(2)\n",
    "            \n",
    "\n",
    "\n",
    "    \n",
    "lib_df2 = pd.DataFrame(data = {'words':words1, 'label':label1})\n",
    "neut_df2 = pd.DataFrame(data = {'words':words2, 'label':label2})\n",
    "con_df2 = pd.DataFrame(data = {'words':words3, 'label':label3})\n",
    "frames2 = [lib_df2, con_df2, neut_df2]\n",
    "dat2 = pd.concat(frames2)"
   ]
  },
  {
   "cell_type": "code",
   "execution_count": 30,
   "metadata": {
    "collapsed": true
   },
   "outputs": [],
   "source": [
    "# Aggregate into one dataset -- dat\n",
    "n1 = len(lib)\n",
    "words1 = np.full(n1, None)\n",
    "label1 = np.full(n1, 0)\n",
    "for i, tree in enumerate(lib):\n",
    "    words1[i] = tree.get_words()\n",
    "\n",
    "n2 = len(neutral)\n",
    "words2 = np.full(n2, None)\n",
    "label2 = np.full(n2, 1)\n",
    "for i, tree in enumerate(neutral):\n",
    "    words2[i] = tree.get_words()\n",
    "       \n",
    "n3 = len(con)\n",
    "words3 = np.full(n3, None)\n",
    "label3 = np.full(n3, 2)\n",
    "for i, tree in enumerate(con):\n",
    "    words3[i] = tree.get_words()\n",
    "\n",
    "    \n",
    "lib_df = pd.DataFrame(data = {'words':words1, 'label':label1})\n",
    "neut_df = pd.DataFrame(data = {'words':words2, 'label':label2})\n",
    "con_df = pd.DataFrame(data = {'words':words3, 'label':label3})\n",
    "frames = [lib_df, con_df, neut_df]\n",
    "dat = pd.concat(frames)"
   ]
  },
  {
   "cell_type": "code",
   "execution_count": 31,
   "metadata": {
    "collapsed": true
   },
   "outputs": [],
   "source": [
    "# Function to clean word data--removes stopwords, makes lowercase, removes numbers\n",
    "def clean_words(sentences):\n",
    "    words_clean = np.full(len(sentences), None)\n",
    "    for i, words in enumerate(sentences):\n",
    "        word_list = re.split('\\W+', words)\n",
    "        words1 = [word.lower() for word in word_list if word.lower() not in stopwords.words('english')]\n",
    "        words2 = [word for word in words1 if not any(char.isdigit() for char in word)]\n",
    "        words_clean[i] = (' '.join(words2)).strip()\n",
    "    return words_clean"
   ]
  },
  {
   "cell_type": "code",
   "execution_count": 32,
   "metadata": {
    "collapsed": true
   },
   "outputs": [],
   "source": [
    "dat['words_clean'] = clean_words(dat['words'])"
   ]
  },
  {
   "cell_type": "code",
   "execution_count": 61,
   "metadata": {
    "collapsed": true
   },
   "outputs": [],
   "source": [
    "dat2['words_clean'] = clean_words(dat2['words'])"
   ]
  },
  {
   "cell_type": "code",
   "execution_count": 33,
   "metadata": {
    "collapsed": false
   },
   "outputs": [
    {
     "data": {
      "text/plain": [
       "0    forcing middle class workers bear greater shar...\n",
       "1    would worthwhile bring case arbitration clause...\n",
       "2    indeed lind argues high profits high wages rei...\n",
       "3    fairness noted devotes entire chapter new york...\n",
       "4    psychological tactics social control technique...\n",
       "5    uncontrolled profit motive destroying health i...\n",
       "6    organizations representing religious right loy...\n",
       "7    market based greed fear tugged worst things us...\n",
       "8    conservative movement rooted coherent easy sum...\n",
       "9    eliminating private insurer could save billion...\n",
       "Name: words_clean, dtype: object"
      ]
     },
     "execution_count": 33,
     "metadata": {},
     "output_type": "execute_result"
    }
   ],
   "source": [
    "dat['words_clean'].head(n=10)"
   ]
  },
  {
   "cell_type": "code",
   "execution_count": 34,
   "metadata": {
    "collapsed": false
   },
   "outputs": [
    {
     "name": "stdout",
     "output_type": "stream",
     "text": [
      "Forcing middle-class workers to bear a greater share of the cost of government weakens their support for needed investments and stirs resentment toward those who depend on public services the most .\n",
      "forcing middle class workers bear greater share cost government weakens support needed investments stirs resentment toward depend public services\n",
      "0\n"
     ]
    }
   ],
   "source": [
    "# Look at words\n",
    "i = 0\n",
    "print(dat['words'].iloc[i])\n",
    "print(dat['words_clean'].iloc[i])\n",
    "print(dat['label'].iloc[i])"
   ]
  },
  {
   "cell_type": "code",
   "execution_count": 35,
   "metadata": {
    "collapsed": false
   },
   "outputs": [
    {
     "data": {
      "text/html": [
       "<div>\n",
       "<style scoped>\n",
       "    .dataframe tbody tr th:only-of-type {\n",
       "        vertical-align: middle;\n",
       "    }\n",
       "\n",
       "    .dataframe tbody tr th {\n",
       "        vertical-align: top;\n",
       "    }\n",
       "\n",
       "    .dataframe thead th {\n",
       "        text-align: right;\n",
       "    }\n",
       "</style>\n",
       "<table border=\"1\" class=\"dataframe\">\n",
       "  <thead>\n",
       "    <tr style=\"text-align: right;\">\n",
       "      <th></th>\n",
       "      <th>label</th>\n",
       "      <th>words</th>\n",
       "      <th>words_clean</th>\n",
       "    </tr>\n",
       "  </thead>\n",
       "  <tbody>\n",
       "    <tr>\n",
       "      <th>0</th>\n",
       "      <td>0</td>\n",
       "      <td>Forcing middle-class workers to bear a greater...</td>\n",
       "      <td>forcing middle class workers bear greater shar...</td>\n",
       "    </tr>\n",
       "    <tr>\n",
       "      <th>1</th>\n",
       "      <td>0</td>\n",
       "      <td>Because it would not be worthwhile to bring a ...</td>\n",
       "      <td>would worthwhile bring case arbitration clause...</td>\n",
       "    </tr>\n",
       "    <tr>\n",
       "      <th>2</th>\n",
       "      <td>0</td>\n",
       "      <td>Indeed , Lind argues that high profits and hig...</td>\n",
       "      <td>indeed lind argues high profits high wages rei...</td>\n",
       "    </tr>\n",
       "    <tr>\n",
       "      <th>3</th>\n",
       "      <td>0</td>\n",
       "      <td>In fairness , it should be noted that he devot...</td>\n",
       "      <td>fairness noted devotes entire chapter new york...</td>\n",
       "    </tr>\n",
       "    <tr>\n",
       "      <th>4</th>\n",
       "      <td>0</td>\n",
       "      <td>Psychological tactics are social control techn...</td>\n",
       "      <td>psychological tactics social control technique...</td>\n",
       "    </tr>\n",
       "  </tbody>\n",
       "</table>\n",
       "</div>"
      ],
      "text/plain": [
       "   label                                              words  \\\n",
       "0      0  Forcing middle-class workers to bear a greater...   \n",
       "1      0  Because it would not be worthwhile to bring a ...   \n",
       "2      0  Indeed , Lind argues that high profits and hig...   \n",
       "3      0  In fairness , it should be noted that he devot...   \n",
       "4      0  Psychological tactics are social control techn...   \n",
       "\n",
       "                                         words_clean  \n",
       "0  forcing middle class workers bear greater shar...  \n",
       "1  would worthwhile bring case arbitration clause...  \n",
       "2  indeed lind argues high profits high wages rei...  \n",
       "3  fairness noted devotes entire chapter new york...  \n",
       "4  psychological tactics social control technique...  "
      ]
     },
     "execution_count": 35,
     "metadata": {},
     "output_type": "execute_result"
    }
   ],
   "source": [
    "dat.head()"
   ]
  },
  {
   "cell_type": "code",
   "execution_count": 36,
   "metadata": {
    "collapsed": true
   },
   "outputs": [],
   "source": [
    "dat.to_excel('ibc.xlsx')"
   ]
  },
  {
   "cell_type": "code",
   "execution_count": 62,
   "metadata": {
    "collapsed": true
   },
   "outputs": [],
   "source": [
    "dat2.to_excel('ibc3.xlsx')"
   ]
  },
  {
   "cell_type": "code",
   "execution_count": 37,
   "metadata": {
    "collapsed": true
   },
   "outputs": [],
   "source": [
    "new_dat = pd.read_excel('additional_sentences.xlsx')"
   ]
  },
  {
   "cell_type": "code",
   "execution_count": 38,
   "metadata": {
    "collapsed": false
   },
   "outputs": [
    {
     "name": "stdout",
     "output_type": "stream",
     "text": [
      "(1152, 2)\n"
     ]
    },
    {
     "data": {
      "text/html": [
       "<div>\n",
       "<style scoped>\n",
       "    .dataframe tbody tr th:only-of-type {\n",
       "        vertical-align: middle;\n",
       "    }\n",
       "\n",
       "    .dataframe tbody tr th {\n",
       "        vertical-align: top;\n",
       "    }\n",
       "\n",
       "    .dataframe thead th {\n",
       "        text-align: right;\n",
       "    }\n",
       "</style>\n",
       "<table border=\"1\" class=\"dataframe\">\n",
       "  <thead>\n",
       "    <tr style=\"text-align: right;\">\n",
       "      <th></th>\n",
       "      <th>sentences</th>\n",
       "      <th>score</th>\n",
       "    </tr>\n",
       "  </thead>\n",
       "  <tbody>\n",
       "    <tr>\n",
       "      <th>3.0</th>\n",
       "      <td>thats all there was to it.</td>\n",
       "      <td>1</td>\n",
       "    </tr>\n",
       "    <tr>\n",
       "      <th>66.0</th>\n",
       "      <td>these are the gifts that can impact their lives.</td>\n",
       "      <td>1</td>\n",
       "    </tr>\n",
       "    <tr>\n",
       "      <th>17.0</th>\n",
       "      <td>representative joe barton of texas, the states...</td>\n",
       "      <td>0</td>\n",
       "    </tr>\n",
       "    <tr>\n",
       "      <th>32.0</th>\n",
       "      <td>\"i believe his position has to do whether we f...</td>\n",
       "      <td>1</td>\n",
       "    </tr>\n",
       "    <tr>\n",
       "      <th>12.0</th>\n",
       "      <td>please try again later.</td>\n",
       "      <td>1</td>\n",
       "    </tr>\n",
       "  </tbody>\n",
       "</table>\n",
       "</div>"
      ],
      "text/plain": [
       "                                              sentences  score\n",
       "3.0                          thats all there was to it.      1\n",
       "66.0   these are the gifts that can impact their lives.      1\n",
       "17.0  representative joe barton of texas, the states...      0\n",
       "32.0  \"i believe his position has to do whether we f...      1\n",
       "12.0                            please try again later.      1"
      ]
     },
     "execution_count": 38,
     "metadata": {},
     "output_type": "execute_result"
    }
   ],
   "source": [
    "print(new_dat.shape)\n",
    "new_dat.head()"
   ]
  },
  {
   "cell_type": "code",
   "execution_count": 39,
   "metadata": {
    "collapsed": false
   },
   "outputs": [],
   "source": [
    "manual = pd.DataFrame(columns=['label','words','words_clean'])\n",
    "manual['label'] = new_dat['score']\n",
    "manual['words'] = new_dat['sentences']\n",
    "manual['words_clean'] = clean_words(new_dat['sentences'])"
   ]
  },
  {
   "cell_type": "code",
   "execution_count": 40,
   "metadata": {
    "collapsed": false
   },
   "outputs": [
    {
     "name": "stdout",
     "output_type": "stream",
     "text": [
      "(1152, 3)\n"
     ]
    },
    {
     "data": {
      "text/html": [
       "<div>\n",
       "<style scoped>\n",
       "    .dataframe tbody tr th:only-of-type {\n",
       "        vertical-align: middle;\n",
       "    }\n",
       "\n",
       "    .dataframe tbody tr th {\n",
       "        vertical-align: top;\n",
       "    }\n",
       "\n",
       "    .dataframe thead th {\n",
       "        text-align: right;\n",
       "    }\n",
       "</style>\n",
       "<table border=\"1\" class=\"dataframe\">\n",
       "  <thead>\n",
       "    <tr style=\"text-align: right;\">\n",
       "      <th></th>\n",
       "      <th>label</th>\n",
       "      <th>words</th>\n",
       "      <th>words_clean</th>\n",
       "    </tr>\n",
       "  </thead>\n",
       "  <tbody>\n",
       "    <tr>\n",
       "      <th>3.0</th>\n",
       "      <td>1</td>\n",
       "      <td>thats all there was to it.</td>\n",
       "      <td>thats</td>\n",
       "    </tr>\n",
       "    <tr>\n",
       "      <th>66.0</th>\n",
       "      <td>1</td>\n",
       "      <td>these are the gifts that can impact their lives.</td>\n",
       "      <td>gifts impact lives</td>\n",
       "    </tr>\n",
       "    <tr>\n",
       "      <th>17.0</th>\n",
       "      <td>0</td>\n",
       "      <td>representative joe barton of texas, the states...</td>\n",
       "      <td>representative joe barton texas states senior ...</td>\n",
       "    </tr>\n",
       "    <tr>\n",
       "      <th>32.0</th>\n",
       "      <td>1</td>\n",
       "      <td>\"i believe his position has to do whether we f...</td>\n",
       "      <td>believe position whether follow constitution r...</td>\n",
       "    </tr>\n",
       "    <tr>\n",
       "      <th>12.0</th>\n",
       "      <td>1</td>\n",
       "      <td>please try again later.</td>\n",
       "      <td>please try later</td>\n",
       "    </tr>\n",
       "  </tbody>\n",
       "</table>\n",
       "</div>"
      ],
      "text/plain": [
       "      label                                              words  \\\n",
       "3.0       1                         thats all there was to it.   \n",
       "66.0      1   these are the gifts that can impact their lives.   \n",
       "17.0      0  representative joe barton of texas, the states...   \n",
       "32.0      1  \"i believe his position has to do whether we f...   \n",
       "12.0      1                            please try again later.   \n",
       "\n",
       "                                            words_clean  \n",
       "3.0                                               thats  \n",
       "66.0                                 gifts impact lives  \n",
       "17.0  representative joe barton texas states senior ...  \n",
       "32.0  believe position whether follow constitution r...  \n",
       "12.0                                   please try later  "
      ]
     },
     "execution_count": 40,
     "metadata": {},
     "output_type": "execute_result"
    }
   ],
   "source": [
    "print(manual.shape)\n",
    "manual.head()"
   ]
  },
  {
   "cell_type": "code",
   "execution_count": 41,
   "metadata": {
    "collapsed": true
   },
   "outputs": [],
   "source": [
    "frames = [dat, manual]\n",
    "dat = pd.concat(frames)"
   ]
  },
  {
   "cell_type": "code",
   "execution_count": 42,
   "metadata": {
    "collapsed": false
   },
   "outputs": [
    {
     "name": "stdout",
     "output_type": "stream",
     "text": [
      "(5478, 3)\n"
     ]
    },
    {
     "data": {
      "text/html": [
       "<div>\n",
       "<style scoped>\n",
       "    .dataframe tbody tr th:only-of-type {\n",
       "        vertical-align: middle;\n",
       "    }\n",
       "\n",
       "    .dataframe tbody tr th {\n",
       "        vertical-align: top;\n",
       "    }\n",
       "\n",
       "    .dataframe thead th {\n",
       "        text-align: right;\n",
       "    }\n",
       "</style>\n",
       "<table border=\"1\" class=\"dataframe\">\n",
       "  <thead>\n",
       "    <tr style=\"text-align: right;\">\n",
       "      <th></th>\n",
       "      <th>label</th>\n",
       "      <th>words</th>\n",
       "      <th>words_clean</th>\n",
       "    </tr>\n",
       "  </thead>\n",
       "  <tbody>\n",
       "    <tr>\n",
       "      <th>0.0</th>\n",
       "      <td>0</td>\n",
       "      <td>Forcing middle-class workers to bear a greater...</td>\n",
       "      <td>forcing middle class workers bear greater shar...</td>\n",
       "    </tr>\n",
       "    <tr>\n",
       "      <th>1.0</th>\n",
       "      <td>0</td>\n",
       "      <td>Because it would not be worthwhile to bring a ...</td>\n",
       "      <td>would worthwhile bring case arbitration clause...</td>\n",
       "    </tr>\n",
       "    <tr>\n",
       "      <th>2.0</th>\n",
       "      <td>0</td>\n",
       "      <td>Indeed , Lind argues that high profits and hig...</td>\n",
       "      <td>indeed lind argues high profits high wages rei...</td>\n",
       "    </tr>\n",
       "    <tr>\n",
       "      <th>3.0</th>\n",
       "      <td>0</td>\n",
       "      <td>In fairness , it should be noted that he devot...</td>\n",
       "      <td>fairness noted devotes entire chapter new york...</td>\n",
       "    </tr>\n",
       "    <tr>\n",
       "      <th>4.0</th>\n",
       "      <td>0</td>\n",
       "      <td>Psychological tactics are social control techn...</td>\n",
       "      <td>psychological tactics social control technique...</td>\n",
       "    </tr>\n",
       "  </tbody>\n",
       "</table>\n",
       "</div>"
      ],
      "text/plain": [
       "     label                                              words  \\\n",
       "0.0      0  Forcing middle-class workers to bear a greater...   \n",
       "1.0      0  Because it would not be worthwhile to bring a ...   \n",
       "2.0      0  Indeed , Lind argues that high profits and hig...   \n",
       "3.0      0  In fairness , it should be noted that he devot...   \n",
       "4.0      0  Psychological tactics are social control techn...   \n",
       "\n",
       "                                           words_clean  \n",
       "0.0  forcing middle class workers bear greater shar...  \n",
       "1.0  would worthwhile bring case arbitration clause...  \n",
       "2.0  indeed lind argues high profits high wages rei...  \n",
       "3.0  fairness noted devotes entire chapter new york...  \n",
       "4.0  psychological tactics social control technique...  "
      ]
     },
     "execution_count": 42,
     "metadata": {},
     "output_type": "execute_result"
    }
   ],
   "source": [
    "print(dat.shape)\n",
    "dat.head()"
   ]
  },
  {
   "cell_type": "code",
   "execution_count": 43,
   "metadata": {
    "collapsed": true
   },
   "outputs": [],
   "source": [
    "dat = dat[dat['words_clean'].map(len) > 15]"
   ]
  },
  {
   "cell_type": "code",
   "execution_count": 44,
   "metadata": {
    "collapsed": false
   },
   "outputs": [
    {
     "name": "stdout",
     "output_type": "stream",
     "text": [
      "(5372, 3)\n"
     ]
    },
    {
     "data": {
      "text/html": [
       "<div>\n",
       "<style scoped>\n",
       "    .dataframe tbody tr th:only-of-type {\n",
       "        vertical-align: middle;\n",
       "    }\n",
       "\n",
       "    .dataframe tbody tr th {\n",
       "        vertical-align: top;\n",
       "    }\n",
       "\n",
       "    .dataframe thead th {\n",
       "        text-align: right;\n",
       "    }\n",
       "</style>\n",
       "<table border=\"1\" class=\"dataframe\">\n",
       "  <thead>\n",
       "    <tr style=\"text-align: right;\">\n",
       "      <th></th>\n",
       "      <th>label</th>\n",
       "      <th>words</th>\n",
       "      <th>words_clean</th>\n",
       "    </tr>\n",
       "  </thead>\n",
       "  <tbody>\n",
       "    <tr>\n",
       "      <th>0.0</th>\n",
       "      <td>0</td>\n",
       "      <td>Forcing middle-class workers to bear a greater...</td>\n",
       "      <td>forcing middle class workers bear greater shar...</td>\n",
       "    </tr>\n",
       "    <tr>\n",
       "      <th>1.0</th>\n",
       "      <td>0</td>\n",
       "      <td>Because it would not be worthwhile to bring a ...</td>\n",
       "      <td>would worthwhile bring case arbitration clause...</td>\n",
       "    </tr>\n",
       "    <tr>\n",
       "      <th>2.0</th>\n",
       "      <td>0</td>\n",
       "      <td>Indeed , Lind argues that high profits and hig...</td>\n",
       "      <td>indeed lind argues high profits high wages rei...</td>\n",
       "    </tr>\n",
       "    <tr>\n",
       "      <th>3.0</th>\n",
       "      <td>0</td>\n",
       "      <td>In fairness , it should be noted that he devot...</td>\n",
       "      <td>fairness noted devotes entire chapter new york...</td>\n",
       "    </tr>\n",
       "    <tr>\n",
       "      <th>4.0</th>\n",
       "      <td>0</td>\n",
       "      <td>Psychological tactics are social control techn...</td>\n",
       "      <td>psychological tactics social control technique...</td>\n",
       "    </tr>\n",
       "  </tbody>\n",
       "</table>\n",
       "</div>"
      ],
      "text/plain": [
       "     label                                              words  \\\n",
       "0.0      0  Forcing middle-class workers to bear a greater...   \n",
       "1.0      0  Because it would not be worthwhile to bring a ...   \n",
       "2.0      0  Indeed , Lind argues that high profits and hig...   \n",
       "3.0      0  In fairness , it should be noted that he devot...   \n",
       "4.0      0  Psychological tactics are social control techn...   \n",
       "\n",
       "                                           words_clean  \n",
       "0.0  forcing middle class workers bear greater shar...  \n",
       "1.0  would worthwhile bring case arbitration clause...  \n",
       "2.0  indeed lind argues high profits high wages rei...  \n",
       "3.0  fairness noted devotes entire chapter new york...  \n",
       "4.0  psychological tactics social control technique...  "
      ]
     },
     "execution_count": 44,
     "metadata": {},
     "output_type": "execute_result"
    }
   ],
   "source": [
    "print(dat.shape)\n",
    "dat.head()"
   ]
  },
  {
   "cell_type": "code",
   "execution_count": 45,
   "metadata": {
    "collapsed": true
   },
   "outputs": [],
   "source": [
    "dat.to_excel('all_sentences.xlsx')"
   ]
  },
  {
   "cell_type": "code",
   "execution_count": null,
   "metadata": {
    "collapsed": true
   },
   "outputs": [],
   "source": []
  }
 ],
 "metadata": {
  "anaconda-cloud": {},
  "kernelspec": {
   "display_name": "Python [Root]",
   "language": "python",
   "name": "Python [Root]"
  },
  "language_info": {
   "codemirror_mode": {
    "name": "ipython",
    "version": 2
   },
   "file_extension": ".py",
   "mimetype": "text/x-python",
   "name": "python",
   "nbconvert_exporter": "python",
   "pygments_lexer": "ipython2",
   "version": "2.7.12"
  }
 },
 "nbformat": 4,
 "nbformat_minor": 0
}
